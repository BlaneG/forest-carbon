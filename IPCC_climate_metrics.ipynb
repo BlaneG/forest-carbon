{
 "cells": [
  {
   "cell_type": "code",
   "execution_count": 1,
   "metadata": {},
   "outputs": [],
   "source": [
    "from dataclasses import dataclass\n",
    "import numpy as np\n",
    "import seaborn as sns\n",
    "from scipy.integrate import quad, trapz"
   ]
  },
  {
   "cell_type": "code",
   "execution_count": 2,
   "metadata": {},
   "outputs": [],
   "source": [
    "# W m–2 ppbv-1\n",
    "radiative_efficieny_ppbv = {\"co2\": 1.37e-5, \"ch4\": 3.63e-4, \"n2o\": 3.00e-3}\n",
    "\n",
    "def ppbv_to_kg_conversion(ghg):\n",
    "    \"\"\"\n",
    "    Convert the radiative efficiency from ppbv normalization to kg normalization.\n",
    "    \n",
    "    References\n",
    "    --------------\n",
    "    IPCC 2013. AR5, WG1, Chapter 8 Supplementary Material. p. 8SM-15.\n",
    "    https://www.ipcc.ch/report/ar5/wg1/\n",
    "    \"\"\"\n",
    "    # kg per kmol\n",
    "    molecular_weight = {\"co2\": 44.01, \"ch4\": 16.04, \"n2o\": 44.013}\n",
    "    \n",
    "    total_mass_atmosphere = 5.1352e18 # kg\n",
    "    mean_molecular_weight_air = 28.97 # kg per kmol\n",
    "    molecular_weight_ghg = molecular_weight[ghg]\n",
    "    mass_ratio = mean_molecular_weight_air/molecular_weight_ghg\n",
    "    return mass_ratio * (1e9/total_mass_atmosphere)\n",
    "    \n",
    "def get_radiative_efficieny_kg(ghg):\n",
    "    \"\"\"Get the radiative efficiency of a GHG in W m–2 kg–1.\n",
    "    \"\"\"\n",
    "    ppv_to_kg = ppbv_to_kg_conversion(ghg)\n",
    "    return ppv_to_kg * radiative_efficieny_ppbv[ghg]"
   ]
  },
  {
   "cell_type": "code",
   "execution_count": 3,
   "metadata": {},
   "outputs": [],
   "source": [
    "def CO2_irf(time_horizon):\n",
    "    \"\"\"The impulse response function of CO2.\n",
    "    \n",
    "    Parameters\n",
    "    -----------\n",
    "    time_horizon : int\n",
    "        The time since the original CO2 emission occured.\n",
    "    \n",
    "    References\n",
    "    --------------\n",
    "    IPCC 2013. AR5, WG1, Chapter 8 Supplementary Material. Equation 8.SM.10\n",
    "    https://www.ipcc.ch/report/ar5/wg1/\n",
    "    \n",
    "    \"\"\"\n",
    "    a0 = 0.2173\n",
    "    a1 = 0.2240\n",
    "    a2 = 0.2824\n",
    "    a3 = 0.2763\n",
    "    \n",
    "    t_1 = 394.4\n",
    "    t_2 = 36.54\n",
    "    t_3 = 4.304\n",
    "    \n",
    "    exponential_1 =  np.exp(-time_horizon/t_1)\n",
    "    exponential_2 = np.exp(-time_horizon/t_2)\n",
    "    exponential_3 = np.exp(-time_horizon/t_3)\n",
    "    \n",
    "    return a0 + a1*exponential_1 + a2*exponential_2 + a3*exponential_3\n",
    "\n",
    "\n",
    "def impulse_response_function(time_horizon, ghg):\n",
    "    \"\"\"The impulse response function for different GHGs.\n",
    "    \n",
    "    References\n",
    "    -----------\n",
    "    IPCC 2013. AR5, WG1, Chapter 8 Supplementary Material. Equation 8.SM.8.\n",
    "    https://www.ipcc.ch/report/ar5/wg1/\n",
    "    \"\"\"\n",
    "    # time_horizon = np.arange(time_horizon)\n",
    "    life_time = {\"ch4\": 12.4, \"n2o\": 121}\n",
    "    if ghg.lower() == \"co2\":\n",
    "        return CO2_irf(time_horizon)\n",
    "    else:\n",
    "        \n",
    "        return np.exp(-time_horizon/life_time[ghg.lower()])"
   ]
  },
  {
   "cell_type": "code",
   "execution_count": 4,
   "metadata": {},
   "outputs": [
    {
     "data": {
      "text/plain": [
       "<matplotlib.axes._subplots.AxesSubplot at 0x14c08b0ff28>"
      ]
     },
     "execution_count": 4,
     "metadata": {},
     "output_type": "execute_result"
    },
    {
     "data": {
      "image/png": "[encoded data removed]",
      "text/plain": [
       "<Figure size 432x288 with 1 Axes>"
      ]
     },
     "metadata": {
      "needs_background": "light"
     },
     "output_type": "display_data"
    }
   ],
   "source": [
    "time = 100\n",
    "time_horizon = np.arange(time)\n",
    "sns.lineplot(time_horizon, impulse_response_function(time_horizon, \"CH4\"))\n",
    "sns.lineplot(time_horizon, impulse_response_function(time_horizon, \"CO2\"))"
   ]
  },
  {
   "cell_type": "code",
   "execution_count": 5,
   "metadata": {},
   "outputs": [],
   "source": [
    "def AGWP_CO2(t):\n",
    "    radiative_efficiency = get_radiative_efficieny_kg(\"co2\")\n",
    "    \n",
    "    a0 = 0.2173\n",
    "    a1 = 0.2240\n",
    "    a2 = 0.2824\n",
    "    a3 = 0.2763\n",
    "    \n",
    "    t1 = 394.4\n",
    "    t2 = 36.54\n",
    "    t3 = 4.304\n",
    "    \n",
    "    exponential_1 =  1 - np.exp(-t/t1)\n",
    "    exponential_2 = 1 - np.exp(-t/t2)\n",
    "    exponential_3 = 1 - np.exp(-t/t3)\n",
    "    cumulative_concentration = a0*t + a1*t1*exponential_1 + a2*t2*exponential_2 + a3*t3*exponential_3 \n",
    "    return radiative_efficiency * cumulative_concentration\n",
    "\n",
    "\n",
    "def AGWP_CH4_no_CO2(t):\n",
    "    \"\"\"\n",
    "    Note\n",
    "    ------\n",
    "    Does not include indirect effects from CO2 as a result of CH4 conversion to CO2.\n",
    "    \"\"\"\n",
    "    indirect_O3 = 0.5\n",
    "    indirect_H2O = 0.15\n",
    "    life_time = 12.4\n",
    "    radiative_efficiency = get_radiative_efficieny_kg(\"ch4\") * (1+indirect_O3+indirect_H2O)\n",
    "    \n",
    "    return radiative_efficiency * life_time * (1 - np.exp(-t/life_time))"
   ]
  },
  {
   "cell_type": "code",
   "execution_count": 6,
   "metadata": {},
   "outputs": [],
   "source": [
    "def test_AGWP():\n",
    "    \"\"\"\n",
    "    References\n",
    "    ----------\n",
    "    IPCC, 2013. AR5, WG1, Chapter 8.  Appendix 8.A.\n",
    "    https://www.ipcc.ch/report/ar5/wg1/\n",
    "    \"\"\"\n",
    "    assert np.isclose(AGWP_CO2(100)/9.17e-14, 1, atol=1e-02)\n",
    "    assert np.isclose(AGWP_CO2(20)/2.49e-14, 1, atol=1e-02)\n",
    "    assert np.isclose(AGWP_CH4_no_CO2(20)/2.09e-12, 1, atol=1e-03)\n",
    "    assert np.isclose(AGWP_CH4_no_CO2(100)/2.61e-12, 1, atol=1e-03)\n",
    "    \n",
    "test_AGWP()"
   ]
  },
  {
   "cell_type": "markdown",
   "metadata": {},
   "source": [
    "## Comparing numerical accuracy of integration with analytical solution"
   ]
  },
  {
   "cell_type": "code",
   "execution_count": 7,
   "metadata": {},
   "outputs": [
    {
     "data": {
      "text/plain": [
       "2.6113339465675214e-12"
      ]
     },
     "execution_count": 7,
     "metadata": {},
     "output_type": "execute_result"
    }
   ],
   "source": [
    "# analytical solution\n",
    "AGWP_CH4_no_CO2(100)"
   ]
  },
  {
   "cell_type": "code",
   "execution_count": 8,
   "metadata": {},
   "outputs": [
    {
     "data": {
      "text/plain": [
       "2.6113339465675218e-12"
      ]
     },
     "execution_count": 8,
     "metadata": {},
     "output_type": "execute_result"
    }
   ],
   "source": [
    "# AGWP quad integration\n",
    "adjustment_for_O3_and_H2O = 1.65\n",
    "quad(impulse_response_function, 0, 100, args=(\"ch4\"))[0] * get_radiative_efficieny_kg(\"ch4\") * adjustment_for_O3_and_H2O"
   ]
  },
  {
   "cell_type": "code",
   "execution_count": 9,
   "metadata": {},
   "outputs": [
    {
     "data": {
      "text/plain": [
       "2.612680023606507e-12"
      ]
     },
     "execution_count": 9,
     "metadata": {},
     "output_type": "execute_result"
    }
   ],
   "source": [
    "# AGWP trapz integration\n",
    "trapz(impulse_response_function(np.arange(100), \"ch4\")) * get_radiative_efficieny_kg(\"ch4\") * adjustment_for_O3_and_H2O"
   ]
  }
 ],
 "metadata": {
  "kernelspec": {
   "display_name": "Python 3.7.3 64-bit ('pyviz': conda)",
   "language": "python",
   "name": "python37364bitpyvizcondae887a60b23994073876f340b69542750"
  },
  "language_info": {
   "codemirror_mode": {
    "name": "ipython",
    "version": 3
   },
   "file_extension": ".py",
   "mimetype": "text/x-python",
   "name": "python",
   "nbconvert_exporter": "python",
   "pygments_lexer": "ipython3",
   "version": "3.7.3"
  }
 },
 "nbformat": 4,
 "nbformat_minor": 2
}
